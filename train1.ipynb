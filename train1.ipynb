{
 "cells": [
  {
   "cell_type": "markdown",
   "metadata": {},
   "source": [
    "Step 1: Text Preprocessing"
   ]
  },
  {
   "cell_type": "code",
   "execution_count": 4,
   "metadata": {},
   "outputs": [
    {
     "name": "stderr",
     "output_type": "stream",
     "text": [
      "[nltk_data] Downloading package stopwords to\n",
      "[nltk_data]     C:\\Users\\naras\\AppData\\Roaming\\nltk_data...\n",
      "[nltk_data]   Unzipping corpora\\stopwords.zip.\n",
      "[nltk_data] Downloading package wordnet to\n",
      "[nltk_data]     C:\\Users\\naras\\AppData\\Roaming\\nltk_data...\n"
     ]
    }
   ],
   "source": [
    "import pandas as pd\n",
    "from sklearn.model_selection import train_test_split\n",
    "from sklearn.feature_extraction.text import ENGLISH_STOP_WORDS\n",
    "from nltk.stem import PorterStemmer, WordNetLemmatizer\n",
    "from nltk.corpus import stopwords\n",
    "from tensorflow.keras.preprocessing.text import Tokenizer\n",
    "from tensorflow.keras.preprocessing.sequence import pad_sequences\n",
    "\n",
    "import nltk\n",
    "\n",
    "nltk.download('stopwords')\n",
    "nltk.download('wordnet')\n",
    "\n",
    "# Load the dataset\n",
    "df = pd.read_csv('./IMDB_dataset.csv')\n",
    "\n",
    "# Initialize stemmer and lemmatizer\n",
    "stemmer = PorterStemmer()\n",
    "lemmatizer = WordNetLemmatizer()\n",
    "\n",
    "# Define a function to clean the text\n",
    "def clean_text(text):\n",
    "    # Convert text to lowercase\n",
    "    text = text.lower()\n",
    "    # Remove special characters\n",
    "    text = ''.join([char for char in text if char.isalnum() or char.isspace()])\n",
    "    # Tokenize text\n",
    "    tokens = text.split()\n",
    "    # Remove stopwords\n",
    "    tokens = [word for word in tokens if word not in ENGLISH_STOP_WORDS]\n",
    "    # Apply stemming and lemmatization\n",
    "    tokens = [stemmer.stem(lemmatizer.lemmatize(word)) for word in tokens]\n",
    "    # Join tokens back into a single string\n",
    "    return ' '.join(tokens)\n",
    "\n",
    "# Apply the cleaning function to the review column\n",
    "df['review'] = df['review'].apply(clean_text)\n"
   ]
  },
  {
   "cell_type": "markdown",
   "metadata": {},
   "source": [
    "Step 2: Tokenization and Padding"
   ]
  },
  {
   "cell_type": "code",
   "execution_count": 5,
   "metadata": {},
   "outputs": [],
   "source": [
    "# Initialize tokenizer with out-of-vocabulary token\n",
    "tokenizer = Tokenizer(oov_token='<OOV>')\n",
    "# Fit tokenizer on the cleaned reviews\n",
    "tokenizer.fit_on_texts(df['review'])\n",
    "\n",
    "# Convert reviews to sequences\n",
    "sequences = tokenizer.texts_to_sequences(df['review'])\n",
    "\n",
    "# Pad the sequences\n",
    "maxlen = 100  # Define the maximum length of sequences\n",
    "padded_sequences = pad_sequences(sequences, maxlen=maxlen, padding='post', truncating='post')\n"
   ]
  },
  {
   "cell_type": "markdown",
   "metadata": {},
   "source": [
    "# Define RNN model"
   ]
  },
  {
   "cell_type": "code",
   "execution_count": 6,
   "metadata": {},
   "outputs": [
    {
     "name": "stdout",
     "output_type": "stream",
     "text": [
      "WARNING:tensorflow:From c:\\Users\\naras\\AppData\\Local\\Programs\\Python\\Python310\\lib\\site-packages\\keras\\src\\backend.py:873: The name tf.get_default_graph is deprecated. Please use tf.compat.v1.get_default_graph instead.\n",
      "\n",
      "WARNING:tensorflow:From c:\\Users\\naras\\AppData\\Local\\Programs\\Python\\Python310\\lib\\site-packages\\keras\\src\\optimizers\\__init__.py:309: The name tf.train.Optimizer is deprecated. Please use tf.compat.v1.train.Optimizer instead.\n",
      "\n",
      "Epoch 1/10\n",
      "WARNING:tensorflow:From c:\\Users\\naras\\AppData\\Local\\Programs\\Python\\Python310\\lib\\site-packages\\keras\\src\\utils\\tf_utils.py:492: The name tf.ragged.RaggedTensorValue is deprecated. Please use tf.compat.v1.ragged.RaggedTensorValue instead.\n",
      "\n",
      "WARNING:tensorflow:From c:\\Users\\naras\\AppData\\Local\\Programs\\Python\\Python310\\lib\\site-packages\\keras\\src\\engine\\base_layer_utils.py:384: The name tf.executing_eagerly_outside_functions is deprecated. Please use tf.compat.v1.executing_eagerly_outside_functions instead.\n",
      "\n",
      "1250/1250 [==============================] - 502s 383ms/step - loss: 0.6382 - accuracy: 0.6271 - val_loss: 0.5538 - val_accuracy: 0.7540\n",
      "Epoch 2/10\n",
      "1250/1250 [==============================] - 662s 530ms/step - loss: 0.5141 - accuracy: 0.7428 - val_loss: 0.4924 - val_accuracy: 0.8014\n",
      "Epoch 3/10\n",
      "1250/1250 [==============================] - 631s 505ms/step - loss: 0.3748 - accuracy: 0.8565 - val_loss: 0.3958 - val_accuracy: 0.8420\n",
      "Epoch 4/10\n",
      "1250/1250 [==============================] - 1196s 957ms/step - loss: 0.4366 - accuracy: 0.8258 - val_loss: 0.5389 - val_accuracy: 0.7457\n",
      "Epoch 5/10\n",
      "1250/1250 [==============================] - 1169s 936ms/step - loss: 0.4758 - accuracy: 0.7888 - val_loss: 0.4863 - val_accuracy: 0.7704\n",
      "Epoch 6/10\n",
      "1250/1250 [==============================] - 580s 464ms/step - loss: 0.3657 - accuracy: 0.8627 - val_loss: 0.4683 - val_accuracy: 0.8315\n",
      "Epoch 7/10\n",
      "1250/1250 [==============================] - 340s 272ms/step - loss: 0.2480 - accuracy: 0.9171 - val_loss: 0.3868 - val_accuracy: 0.8457\n",
      "Epoch 8/10\n",
      "1250/1250 [==============================] - 327s 262ms/step - loss: 0.4121 - accuracy: 0.7983 - val_loss: 0.5242 - val_accuracy: 0.7588\n",
      "Epoch 9/10\n",
      "1250/1250 [==============================] - 324s 259ms/step - loss: 0.1934 - accuracy: 0.9333 - val_loss: 0.3762 - val_accuracy: 0.8634\n",
      "Epoch 10/10\n",
      "1250/1250 [==============================] - 335s 268ms/step - loss: 0.1102 - accuracy: 0.9682 - val_loss: 0.4780 - val_accuracy: 0.8686\n"
     ]
    },
    {
     "data": {
      "text/plain": [
       "<keras.src.callbacks.History at 0x20942f8bc10>"
      ]
     },
     "execution_count": 6,
     "metadata": {},
     "output_type": "execute_result"
    }
   ],
   "source": [
    "from tensorflow.keras.models import Sequential\n",
    "from tensorflow.keras.layers import Embedding, LSTM, Dense, Dropout\n",
    "\n",
    "\n",
    "df['sentiment'] = df['sentiment'].map({'positive': 1, 'negative': 0})\n",
    "\n",
    "\n",
    "X_train, X_test, y_train, y_test = train_test_split(padded_sequences, df['sentiment'], test_size=0.2, random_state=42)\n",
    "\n",
    "model = Sequential([\n",
    "    Embedding(input_dim=len(tokenizer.word_index) + 1, output_dim=64, input_length=maxlen),\n",
    "    LSTM(64, return_sequences=False), \n",
    "    Dropout(0.5),  \n",
    "    Dense(1, activation='sigmoid') \n",
    "])\n",
    "\n",
    "model.compile(optimizer='adam', loss='binary_crossentropy', metrics=['accuracy'])\n",
    "\n",
    "\n",
    "model.fit(X_train, y_train, epochs=10, batch_size=32, validation_data=(X_test, y_test))\n"
   ]
  },
  {
   "cell_type": "markdown",
   "metadata": {},
   "source": [
    "#Step 4: Train and Evaluate the Model"
   ]
  },
  {
   "cell_type": "code",
   "execution_count": 7,
   "metadata": {},
   "outputs": [
    {
     "name": "stdout",
     "output_type": "stream",
     "text": [
      "313/313 [==============================] - 23s 73ms/step - loss: 0.4780 - accuracy: 0.8686\n",
      "Test Loss: 0.47803452610969543, Test Accuracy: 0.8686000108718872\n"
     ]
    }
   ],
   "source": [
    "\n",
    "loss, accuracy = model.evaluate(X_test, y_test)\n",
    "print(f'Test Loss: {loss}, Test Accuracy: {accuracy}')"
   ]
  },
  {
   "cell_type": "markdown",
   "metadata": {},
   "source": [
    "Save the Model"
   ]
  },
  {
   "cell_type": "code",
   "execution_count": 9,
   "metadata": {},
   "outputs": [],
   "source": [
    "model.save('trained_model.h5')"
   ]
  }
 ],
 "metadata": {
  "kernelspec": {
   "display_name": "Python 3",
   "language": "python",
   "name": "python3"
  },
  "language_info": {
   "codemirror_mode": {
    "name": "ipython",
    "version": 3
   },
   "file_extension": ".py",
   "mimetype": "text/x-python",
   "name": "python",
   "nbconvert_exporter": "python",
   "pygments_lexer": "ipython3",
   "version": "3.10.8"
  }
 },
 "nbformat": 4,
 "nbformat_minor": 2
}
